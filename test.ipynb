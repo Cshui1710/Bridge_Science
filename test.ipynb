{
 "cells": [
  {
   "cell_type": "code",
   "execution_count": 3,
   "id": "14f8adb8-cdf5-4432-9da3-3df5fdff5a9f",
   "metadata": {},
   "outputs": [
    {
     "name": "stdout",
     "output_type": "stream",
     "text": [
      "loading Roboflow workspace...\n",
      "loading Roboflow project...\n"
     ]
    }
   ],
   "source": [
    "from roboflow import Roboflow\n",
    "\n",
    "# Roboflow APIキーをセット\n",
    "rf = Roboflow(api_key=\"Bkn7HMszGVliBmChzz78\")\n",
    "\n",
    "# プロジェクト名とバージョンを指定\n",
    "project = rf.workspace(\"valengou\").project(\"structure-inspector\")\n",
    "model = project.version(2).model"
   ]
  },
  {
   "cell_type": "code",
   "execution_count": 13,
   "id": "7bb3c7c9-2897-4aee-a107-384964c124b7",
   "metadata": {},
   "outputs": [
    {
     "name": "stdout",
     "output_type": "stream",
     "text": [
      "{'predictions': [{'x': 52, 'y': 44, 'width': 4, 'height': 6, 'confidence': 0.6482348442077637, 'class': 'Out of Plane Stiffener', 'class_id': 3, 'detection_id': '73566d2f-d67f-4b9e-982f-65d787bab00f', 'image_path': 'test.jpg', 'prediction_type': 'ObjectDetectionModel'}], 'image': {'width': '177', 'height': '148'}}\n"
     ]
    }
   ],
   "source": [
    "image_path = \"test.jpg\"  # ここに画像ファイル名を指定\n",
    "\n",
    "# 推論を実行\n",
    "prediction = model.predict(image_path, confidence=50, overlap=50).json()\n",
    "\n",
    "# 結果を出力\n",
    "print(prediction)\n",
    "\n",
    "# さらに、推論結果の画像を保存する場合\n",
    "model.predict(image_path).save(\"result.jpg\")"
   ]
  },
  {
   "cell_type": "code",
   "execution_count": 18,
   "id": "49a69f4f-7680-4e20-a568-6035b2d761df",
   "metadata": {},
   "outputs": [
    {
     "name": "stdout",
     "output_type": "stream",
     "text": [
      "loading Roboflow workspace...\n",
      "loading Roboflow project...\n",
      "バウンディングボックスだけ描いた画像を保存しました！ → output_boxes_only.jpg\n"
     ]
    }
   ],
   "source": [
    "from roboflow import Roboflow\n",
    "import cv2\n",
    "\n",
    "# Roboflowセットアップ\n",
    "rf = Roboflow(api_key=\"Bkn7HMszGVliBmChzz78\")\n",
    "project = rf.workspace(\"valengou\").project(\"structure-inspector\")\n",
    "model = project.version(2).model\n",
    "\n",
    "# 画像のパス\n",
    "image_path = \"test2.jpg\"\n",
    "\n",
    "# 推論 (結果をjson形式でもらう)\n",
    "prediction = model.predict(image_path, confidence=50, overlap=50).json()\n",
    "\n",
    "# OpenCVで元画像を読む\n",
    "img = cv2.imread(image_path)\n",
    "\n",
    "# カラー変換 (OpenCVはBGRなのでRGBに直す)\n",
    "img = cv2.cvtColor(img, cv2.COLOR_BGR2RGB)\n",
    "\n",
    "# バウンディングボックスを描画\n",
    "for pred in prediction['predictions']:\n",
    "    x = int(pred['x'])\n",
    "    y = int(pred['y'])\n",
    "    w = int(pred['width'])\n",
    "    h = int(pred['height'])\n",
    "    \n",
    "    # バウンディングボックス座標計算\n",
    "    x1 = x - w // 2\n",
    "    y1 = y - h // 2\n",
    "    x2 = x + w // 2\n",
    "    y2 = y + h // 2\n",
    "\n",
    "    # 色をクラスごとに決める（適当に固定色でもOK）\n",
    "    color = (255, 0, 255)  # ピンク色（RGB）\n",
    "    \n",
    "    # 四角形を描く\n",
    "    cv2.rectangle(img, (x1, y1), (x2, y2), color, 2)\n",
    "\n",
    "# 保存\n",
    "output_path = \"output_boxes_only.jpg\"\n",
    "img = cv2.cvtColor(img, cv2.COLOR_RGB2BGR)  # 保存前にBGRに戻す\n",
    "cv2.imwrite(output_path, img)\n",
    "\n",
    "print(f\"バウンディングボックスだけ描いた画像を保存しました！ → {output_path}\")\n"
   ]
  },
  {
   "cell_type": "code",
   "execution_count": 19,
   "id": "473a9857-c6f4-4997-afa7-beba012e6b9e",
   "metadata": {},
   "outputs": [
    {
     "name": "stdout",
     "output_type": "stream",
     "text": [
      "{'inference_id': '9058530e-da54-4f12-88f6-246f34ecbd4c', 'time': 0.00755611000204226, 'image': {'width': 345, 'height': 230}, 'predictions': [{'x': 136.5, 'y': 122.0, 'width': 159.0, 'height': 158.0, 'confidence': 0.8781711459159851, 'class': 'Gusset Plate Connection', 'class_id': 2, 'detection_id': 'fa8f6f12-4223-4d17-a62e-04a94999a3aa'}]}\n"
     ]
    }
   ],
   "source": [
    "from inference_sdk import InferenceHTTPClient\n",
    "\n",
    "CLIENT = InferenceHTTPClient(\n",
    "    api_url=\"https://serverless.roboflow.com\",\n",
    "    api_key=\"Bkn7HMszGVliBmChzz78\"\n",
    ")\n",
    "\n",
    "result = CLIENT.infer(\"test2.jpg\", model_id=\"structure-inspector/2\")\n",
    "\n",
    "# 🔥 ここを追加！\n",
    "print(result)\n"
   ]
  },
  {
   "cell_type": "code",
   "execution_count": 21,
   "id": "b006cd72-d088-4041-8492-d6c59f5de6f9",
   "metadata": {},
   "outputs": [
    {
     "name": "stdout",
     "output_type": "stream",
     "text": [
      "バウンディングボックス＋ラベルを描画して保存しました！\n"
     ]
    }
   ],
   "source": [
    "import cv2\n",
    "\n",
    "# 推論結果 (さっきのresult)\n",
    "# ここにresultを渡しておく必要あり！\n",
    "\n",
    "# 元画像を読み込む\n",
    "img = cv2.imread(\"test2.jpg\")\n",
    "\n",
    "# バウンディングボックス＋ラベルを描く\n",
    "for pred in result['predictions']:\n",
    "    x = int(pred['x'])\n",
    "    y = int(pred['y'])\n",
    "    w = int(pred['width'])\n",
    "    h = int(pred['height'])\n",
    "    \n",
    "    # 左上座標と右下座標を計算\n",
    "    x1 = int(x - w / 2)\n",
    "    y1 = int(y - h / 2)\n",
    "    x2 = int(x + w / 2)\n",
    "    y2 = int(y + h / 2)\n",
    "    \n",
    "    # 四角を描画（色：ピンク、線幅：2）\n",
    "    cv2.rectangle(img, (x1, y1), (x2, y2), (255, 0, 255), 2)\n",
    "    \n",
    "    # ラベル名を描画（座標の少し上に）\n",
    "    label = pred['class']\n",
    "    font = cv2.FONT_HERSHEY_SIMPLEX\n",
    "    font_scale = 0.5\n",
    "    font_thickness = 1\n",
    "    text_size, _ = cv2.getTextSize(label, font, font_scale, font_thickness)\n",
    "    text_x = x1\n",
    "    text_y = y1 - 5 if y1 - 5 > 10 else y1 + 15  # 枠外に出ないように調整\n",
    "\n",
    "    # 背景用の塗りつぶし（オプション：見やすくする）\n",
    "    cv2.rectangle(img, (text_x, text_y - text_size[1]), (text_x + text_size[0], text_y), (255, 0, 255), -1)\n",
    "    \n",
    "    # テキストを白文字で重ねる\n",
    "    cv2.putText(img, label, (text_x, text_y), font, font_scale, (255, 255, 255), font_thickness)\n",
    "\n",
    "# 画像保存\n",
    "cv2.imwrite(\"output.jpg\", img)\n",
    "\n",
    "print(\"バウンディングボックス＋ラベルを描画して保存しました！\")\n"
   ]
  },
  {
   "cell_type": "code",
   "execution_count": null,
   "id": "217762aa-661c-4d79-9b1a-bdf3c1ccb1c3",
   "metadata": {},
   "outputs": [],
   "source": []
  }
 ],
 "metadata": {
  "kernelspec": {
   "display_name": "Python 3 (ipykernel)",
   "language": "python",
   "name": "python3"
  },
  "language_info": {
   "codemirror_mode": {
    "name": "ipython",
    "version": 3
   },
   "file_extension": ".py",
   "mimetype": "text/x-python",
   "name": "python",
   "nbconvert_exporter": "python",
   "pygments_lexer": "ipython3",
   "version": "3.12.3"
  }
 },
 "nbformat": 4,
 "nbformat_minor": 5
}
